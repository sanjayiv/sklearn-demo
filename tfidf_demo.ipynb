{
 "cells": [
  {
   "cell_type": "markdown",
   "metadata": {},
   "source": [
    "# sklearn demo"
   ]
  },
  {
   "cell_type": "markdown",
   "metadata": {},
   "source": [
    "## First example"
   ]
  },
  {
   "cell_type": "markdown",
   "metadata": {},
   "source": [
    "This example uses unigram tfidf vectors to represent docs and queries. And, cosine similarity for the score."
   ]
  },
  {
   "cell_type": "code",
   "execution_count": 1,
   "metadata": {
    "collapsed": true
   },
   "outputs": [],
   "source": [
    "# import required modules\n",
    "from sklearn.feature_extraction.text import TfidfVectorizer\n",
    "from sklearn.metrics.pairwise import cosine_similarity"
   ]
  },
  {
   "cell_type": "code",
   "execution_count": 2,
   "metadata": {
    "collapsed": true
   },
   "outputs": [],
   "source": [
    "# init corpus\n",
    "doc_corpus = [ 'the first concept',\n",
    "        'a second concept',\n",
    "        'a third concept',\n",
    "        'the last concept']\n",
    "\n",
    "query_corpus = [ 'question about the first concept',\n",
    "        'puzzle involving a second concept',\n",
    "        'query for a third concept',\n",
    "        'example of the last concept']"
   ]
  },
  {
   "cell_type": "code",
   "execution_count": 3,
   "metadata": {
    "collapsed": false,
    "scrolled": false
   },
   "outputs": [
    {
     "name": "stdout",
     "output_type": "stream",
     "text": [
      "Feature vector: \n",
      "[u'concept', u'first', u'last', u'second', u'the', u'third']\n",
      "Document corpus vectors: \n",
      "[[ 0.37919167  0.72664149  0.          0.          0.5728925   0.        ]\n",
      " [ 0.46263733  0.          0.          0.88654763  0.          0.        ]\n",
      " [ 0.46263733  0.          0.          0.          0.          0.88654763]\n",
      " [ 0.37919167  0.          0.72664149  0.          0.5728925   0.        ]]\n"
     ]
    }
   ],
   "source": [
    "# unigram vector representation\n",
    "vectorizer = TfidfVectorizer(min_df=1)\n",
    "doc_vectors = vectorizer.fit_transform(doc_corpus)\n",
    "print \"Feature vector: \\n\", vectorizer.get_feature_names()\n",
    "print \"Document corpus vectors: \\n\", doc_vectors.toarray()"
   ]
  },
  {
   "cell_type": "code",
   "execution_count": 4,
   "metadata": {
    "collapsed": false,
    "scrolled": true
   },
   "outputs": [
    {
     "name": "stdout",
     "output_type": "stream",
     "text": [
      "Query: \n",
      "\tquestion about the first concept\n",
      "Query vector: \n",
      "\t[[ 0.37919167  0.72664149  0.          0.          0.5728925   0.        ]]\n",
      "Cosine similarity score: \n",
      "\t[[ 1.          0.17542822  0.17542822  0.47199214]]\n",
      "\n",
      "\n",
      "Query: \n",
      "\tpuzzle involving a second concept\n",
      "Query vector: \n",
      "\t[[ 0.46263733  0.          0.          0.88654763  0.          0.        ]]\n",
      "Cosine similarity score: \n",
      "\t[[ 0.17542822  1.          0.2140333   0.17542822]]\n",
      "\n",
      "\n",
      "Query: \n",
      "\tquery for a third concept\n",
      "Query vector: \n",
      "\t[[ 0.46263733  0.          0.          0.          0.          0.88654763]]\n",
      "Cosine similarity score: \n",
      "\t[[ 0.17542822  0.2140333   1.          0.17542822]]\n",
      "\n",
      "\n",
      "Query: \n",
      "\texample of the last concept\n",
      "Query vector: \n",
      "\t[[ 0.37919167  0.          0.72664149  0.          0.5728925   0.        ]]\n",
      "Cosine similarity score: \n",
      "\t[[ 0.47199214  0.17542822  0.17542822  1.        ]]\n",
      "\n",
      "\n"
     ]
    }
   ],
   "source": [
    "# cosine similarity score\n",
    "for query in query_corpus:\n",
    "    print \"Query: \\n\\t\", query\n",
    "    q_vector = vectorizer.transform([query])\n",
    "    print \"Query vector: \\n\\t\", q_vector.toarray()\n",
    "    print \"Cosine similarity score: \\n\\t\", cosine_similarity(q_vector, doc_vectors.toarray())\n",
    "    print \"\\n\""
   ]
  },
  {
   "cell_type": "markdown",
   "metadata": {
    "collapsed": true
   },
   "source": [
    "As seen in the example, questions are matched against concepts."
   ]
  },
  {
   "cell_type": "markdown",
   "metadata": {},
   "source": [
    "## second example"
   ]
  },
  {
   "cell_type": "markdown",
   "metadata": {},
   "source": [
    "This example uses both unigram and bigram for vectors."
   ]
  },
  {
   "cell_type": "code",
   "execution_count": 5,
   "metadata": {
    "collapsed": false
   },
   "outputs": [
    {
     "name": "stdout",
     "output_type": "stream",
     "text": [
      "Feature vector: \n",
      "[u'a', u'a second', u'a third', u'concept', u'first', u'first concept', u'last', u'last concept', u'second', u'second concept', u'the', u'the first', u'the last', u'third', u'third concept']\n",
      "Document corpus vectors: \n",
      "[[ 0.          0.          0.          0.26445122  0.50676543  0.50676543\n",
      "   0.          0.          0.          0.          0.39953968  0.50676543\n",
      "   0.          0.          0.        ]\n",
      " [ 0.39953968  0.50676543  0.          0.26445122  0.          0.          0.\n",
      "   0.          0.50676543  0.50676543  0.          0.          0.          0.\n",
      "   0.        ]\n",
      " [ 0.39953968  0.          0.50676543  0.26445122  0.          0.          0.\n",
      "   0.          0.          0.          0.          0.          0.\n",
      "   0.50676543  0.50676543]\n",
      " [ 0.          0.          0.          0.26445122  0.          0.\n",
      "   0.50676543  0.50676543  0.          0.          0.39953968  0.\n",
      "   0.50676543  0.          0.        ]]\n"
     ]
    }
   ],
   "source": [
    "# both unigram and bigram vectors\n",
    "bigram_vectorizer = TfidfVectorizer(ngram_range=(1, 2), token_pattern=r'\\b\\w+\\b', min_df=1)\n",
    "bigram_doc_vectors = bigram_vectorizer.fit_transform(doc_corpus)\n",
    "print \"Feature vector: \\n\", bigram_vectorizer.get_feature_names()\n",
    "print \"Document corpus vectors: \\n\", bigram_doc_vectors.toarray()"
   ]
  },
  {
   "cell_type": "code",
   "execution_count": 6,
   "metadata": {
    "collapsed": false
   },
   "outputs": [
    {
     "name": "stdout",
     "output_type": "stream",
     "text": [
      "Query: \n",
      "\tquestion about the first concept\n",
      "Query vector: \n",
      "\t[[ 0.          0.          0.          0.26445122  0.50676543  0.50676543\n",
      "   0.          0.          0.          0.          0.39953968  0.50676543\n",
      "   0.          0.          0.        ]]\n",
      "Cosine similarity score: \n",
      "\t[[ 1.          0.06993445  0.06993445  0.22956641]]\n",
      "\n",
      "\n",
      "Query: \n",
      "\tpuzzle involving a second concept\n",
      "Query vector: \n",
      "\t[[ 0.39953968  0.50676543  0.          0.26445122  0.          0.          0.\n",
      "   0.          0.50676543  0.50676543  0.          0.          0.          0.\n",
      "   0.        ]]\n",
      "Cosine similarity score: \n",
      "\t[[ 0.06993445  1.          0.22956641  0.06993445]]\n",
      "\n",
      "\n",
      "Query: \n",
      "\tquery for a third concept\n",
      "Query vector: \n",
      "\t[[ 0.39953968  0.          0.50676543  0.26445122  0.          0.          0.\n",
      "   0.          0.          0.          0.          0.          0.\n",
      "   0.50676543  0.50676543]]\n",
      "Cosine similarity score: \n",
      "\t[[ 0.06993445  0.22956641  1.          0.06993445]]\n",
      "\n",
      "\n",
      "Query: \n",
      "\texample of the last concept\n",
      "Query vector: \n",
      "\t[[ 0.          0.          0.          0.26445122  0.          0.\n",
      "   0.50676543  0.50676543  0.          0.          0.39953968  0.\n",
      "   0.50676543  0.          0.        ]]\n",
      "Cosine similarity score: \n",
      "\t[[ 0.22956641  0.06993445  0.06993445  1.        ]]\n",
      "\n",
      "\n"
     ]
    }
   ],
   "source": [
    "# cosine similarity score\n",
    "for query in query_corpus:\n",
    "    print \"Query: \\n\\t\", query\n",
    "    q_vector = bigram_vectorizer.transform([query])\n",
    "    print \"Query vector: \\n\\t\", q_vector.toarray()\n",
    "    print \"Cosine similarity score: \\n\\t\", cosine_similarity(q_vector, bigram_doc_vectors.toarray())\n",
    "    print \"\\n\""
   ]
  },
  {
   "cell_type": "code",
   "execution_count": null,
   "metadata": {
    "collapsed": true
   },
   "outputs": [],
   "source": []
  }
 ],
 "metadata": {
  "kernelspec": {
   "display_name": "Python 2",
   "language": "python",
   "name": "python2"
  },
  "language_info": {
   "codemirror_mode": {
    "name": "ipython",
    "version": 2
   },
   "file_extension": ".py",
   "mimetype": "text/x-python",
   "name": "python",
   "nbconvert_exporter": "python",
   "pygments_lexer": "ipython2",
   "version": "2.7.10"
  }
 },
 "nbformat": 4,
 "nbformat_minor": 0
}
